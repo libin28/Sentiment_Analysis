{
 "cells": [
  {
   "cell_type": "markdown",
   "id": "04e517ba-def2-4c6e-86b7-a1cd0493e36d",
   "metadata": {},
   "source": [
    "# Twitter Sentiment Analysis Model Training\n",
    "A simple study-focused implementation for training sentiment analysis on Twitter data"
   ]
  },
  {
   "cell_type": "code",
   "execution_count": 2,
   "id": "c6aa1f73-e10d-4a39-9e7a-585ac5c5e996",
   "metadata": {},
   "outputs": [],
   "source": [
    "# 1. Import Required Libraries\n",
    "import pandas as pd\n",
    "import numpy as np\n",
    "from sklearn.model_selection import train_test_split\n",
    "from sklearn.feature_extraction.text import TfidfVectorizer\n",
    "from sklearn.linear_model import LogisticRegression\n",
    "from sklearn.metrics import accuracy_score, classification_report, confusion_matrix\n",
    "from sklearn.preprocessing import LabelEncoder\n",
    "import matplotlib.pyplot as plt\n",
    "import seaborn as sns\n",
    "import warnings\n",
    "warnings.filterwarnings('ignore')"
   ]
  },
  {
   "cell_type": "code",
   "execution_count": 3,
   "id": "2f82967a-4b37-4e97-a8c4-77d3e5e3f626",
   "metadata": {},
   "outputs": [
    {
     "name": "stdout",
     "output_type": "stream",
     "text": [
      "Dataset shape: (27481, 4)\n",
      "\n",
      "Column names: ['textID', 'text', 'selected_text', 'sentiment']\n",
      "\n",
      "First few rows:\n",
      "       textID                                               text  \\\n",
      "0  cb774db0d1                I`d have responded, if I were going   \n",
      "1  549e992a42      Sooo SAD I will miss you here in San Diego!!!   \n",
      "2  088c60f138                          my boss is bullying me...   \n",
      "3  9642c003ef                     what interview! leave me alone   \n",
      "4  358bd9e861   Sons of ****, why couldn`t they put them on t...   \n",
      "\n",
      "                         selected_text sentiment  \n",
      "0  I`d have responded, if I were going   neutral  \n",
      "1                             Sooo SAD  negative  \n",
      "2                          bullying me  negative  \n",
      "3                       leave me alone  negative  \n",
      "4                        Sons of ****,  negative  \n",
      "\n",
      "Missing values:\n",
      "textID           0\n",
      "text             1\n",
      "selected_text    1\n",
      "sentiment        0\n",
      "dtype: int64\n",
      "\n",
      "Sentiment distribution:\n",
      "sentiment\n",
      "neutral     11118\n",
      "positive     8582\n",
      "negative     7781\n",
      "Name: count, dtype: int64\n"
     ]
    }
   ],
   "source": [
    "# 2. Load and Explore the Dataset\n",
    "df = pd.read_csv(r\"C:\\Users\\HP\\Downloads\\Twitter_Data.csv\")\n",
    "print(\"Dataset shape:\", df.shape)\n",
    "print(\"\\nColumn names:\", df.columns.tolist())\n",
    "print(\"\\nFirst few rows:\")\n",
    "print(df.head())\n",
    "print(\"\\nMissing values:\")\n",
    "print(df.isnull().sum())\n",
    "print(\"\\nSentiment distribution:\")\n",
    "print(df['sentiment'].value_counts())"
   ]
  },
  {
   "cell_type": "code",
   "execution_count": 12,
   "id": "ba0b10a2-a3bd-4b2f-9f08-82c8e4fbc19d",
   "metadata": {},
   "outputs": [
    {
     "name": "stdout",
     "output_type": "stream",
     "text": [
      "Available columns: ['textID', 'text', 'selected_text', 'sentiment']\n",
      "Missing columns: ['cleaned_text']\n"
     ]
    }
   ],
   "source": [
    "print(\"Available columns:\", df.columns.tolist())\n",
    "\n",
    "# Check for column existence\n",
    "required_columns = ['cleaned_text', 'sentiment']\n",
    "missing_cols = [col for col in required_columns if col not in df.columns]\n",
    "\n",
    "if missing_cols:\n",
    "    print(f\"Missing columns: {missing_cols}\")\n",
    "else:\n",
    "    # Proceed if columns exist\n",
    "    df = df.dropna(subset=required_columns)\n",
    "    text_column = 'cleaned_text'\n",
    "    X = df[text_column]\n",
    "    y = df['sentiment']\n",
    "    print(f\"Using '{text_column}' as text features\")\n",
    "    print(f\"Final dataset shape: {len(X)} samples\")\n",
    "    print(f\"Unique sentiments: {y.unique()}\")"
   ]
  },
  {
   "cell_type": "code",
   "execution_count": 14,
   "id": "2a045c26-fa29-49cb-ba9f-78bad0d9ef0c",
   "metadata": {},
   "outputs": [
    {
     "name": "stdout",
     "output_type": "stream",
     "text": [
      "Using 'text' as text features\n",
      "Final dataset shape: 27480 samples\n",
      "Unique sentiments: ['neutral' 'negative' 'positive']\n"
     ]
    }
   ],
   "source": [
    "# 3. Data Preprocessing\n",
    "df = df.dropna(subset=['text', 'sentiment'])\n",
    "text_column = 'text' if 'cleaned_text' in df.columns else 'text'\n",
    "X = df[text_column]\n",
    "y = df['sentiment']\n",
    "print(f\"Using '{text_column}' as text features\")\n",
    "print(f\"Final dataset shape: {len(X)} samples\")\n",
    "print(f\"Unique sentiments: {y.unique()}\")"
   ]
  },
  {
   "cell_type": "code",
   "execution_count": 35,
   "id": "15785d05-c7d1-4082-8041-e0dfdc13d807",
   "metadata": {},
   "outputs": [],
   "source": [
    "import re\n",
    "\n",
    "def clean_text(text):\n",
    "    # Lowercase\n",
    "    text = text.lower()\n",
    "    # Remove URLs\n",
    "    text = re.sub(r\"http\\S+|www\\S+|https\\S+\", '', text, flags=re.MULTILINE)\n",
    "    # Remove punctuation and numbers\n",
    "    text = re.sub(r'[^a-z\\s]', '', text)\n",
    "    # Remove extra whitespace\n",
    "    text = re.sub(r'\\s+', ' ', text).strip()\n",
    "    return text\n"
   ]
  },
  {
   "cell_type": "code",
   "execution_count": 37,
   "id": "23af8ca6-593b-452d-9bb9-4d3470495ac5",
   "metadata": {},
   "outputs": [],
   "source": [
    "df['cleaned_text'] = df['text'].apply(clean_text)\n"
   ]
  },
  {
   "cell_type": "code",
   "execution_count": 39,
   "id": "759633ff-5369-459b-a29e-320142b16be3",
   "metadata": {},
   "outputs": [
    {
     "name": "stdout",
     "output_type": "stream",
     "text": [
      "Using 'cleaned_text' as text features\n",
      "Final dataset shape: 27480 samples\n",
      "Unique sentiments: ['neutral' 'negative' 'positive']\n"
     ]
    }
   ],
   "source": [
    "# 3. Data Preprocessing\n",
    "df = df.dropna(subset=['cleaned_text', 'sentiment'])\n",
    "text_column = 'cleaned_text' if 'cleaned_text' in df.columns else 'text'\n",
    "X = df[text_column]\n",
    "y = df['sentiment']\n",
    "print(f\"Using '{text_column}' as text features\")\n",
    "print(f\"Final dataset shape: {len(X)} samples\")\n",
    "print(f\"Unique sentiments: {y.unique()}\")"
   ]
  },
  {
   "cell_type": "code",
   "execution_count": 41,
   "id": "19c061db-27e7-4828-ac93-dbe29311cd2b",
   "metadata": {},
   "outputs": [
    {
     "name": "stdout",
     "output_type": "stream",
     "text": [
      "Vectorized features shape: (27480, 5000)\n",
      "Number of features: 5000\n"
     ]
    }
   ],
   "source": [
    "# 4. Text Vectorization\n",
    "vectorizer = TfidfVectorizer(\n",
    "    max_features=5000,\n",
    "    stop_words='english',\n",
    "    ngram_range=(1, 2),\n",
    "    min_df=2,\n",
    "    max_df=0.95\n",
    ")\n",
    "X_vectorized = vectorizer.fit_transform(X)\n",
    "print(f\"Vectorized features shape: {X_vectorized.shape}\")\n",
    "print(f\"Number of features: {len(vectorizer.get_feature_names_out())}\")"
   ]
  },
  {
   "cell_type": "code",
   "execution_count": 43,
   "id": "d9201492-e299-4628-b560-64b0ac2eda2a",
   "metadata": {},
   "outputs": [
    {
     "name": "stdout",
     "output_type": "stream",
     "text": [
      "Model training completed!\n"
     ]
    }
   ],
   "source": [
    "# 5. Split Data and Train Model\n",
    "X_train, X_test, y_train, y_test = train_test_split(\n",
    "    X_vectorized, y, test_size=0.2, random_state=42, stratify=y\n",
    ")\n",
    "model = LogisticRegression(random_state=42, max_iter=1000)\n",
    "model.fit(X_train, y_train)\n",
    "print(\"Model training completed!\")"
   ]
  },
  {
   "cell_type": "code",
   "execution_count": 45,
   "id": "2b4fb742-1c1b-4aec-9d34-2bf9977a3979",
   "metadata": {},
   "outputs": [
    {
     "name": "stdout",
     "output_type": "stream",
     "text": [
      "Accuracy: 0.6827\n",
      "\n",
      "Classification Report:\n",
      "              precision    recall  f1-score   support\n",
      "\n",
      "    negative       0.72      0.59      0.65      1556\n",
      "     neutral       0.61      0.75      0.67      2223\n",
      "    positive       0.78      0.68      0.73      1717\n",
      "\n",
      "    accuracy                           0.68      5496\n",
      "   macro avg       0.70      0.67      0.68      5496\n",
      "weighted avg       0.69      0.68      0.68      5496\n",
      "\n"
     ]
    },
    {
     "data": {
      "image/png": "[encoded data removed]",
      "text/plain": [
       "<Figure size 800x600 with 2 Axes>"
      ]
     },
     "metadata": {},
     "output_type": "display_data"
    }
   ],
   "source": [
    "# 6. Model Evaluation\n",
    "y_pred = model.predict(X_test)\n",
    "accuracy = accuracy_score(y_test, y_pred)\n",
    "print(f\"Accuracy: {accuracy:.4f}\")\n",
    "print(\"\\nClassification Report:\")\n",
    "print(classification_report(y_test, y_pred))\n",
    "cm = confusion_matrix(y_test, y_pred)\n",
    "plt.figure(figsize=(8, 6))\n",
    "sns.heatmap(cm, annot=True, fmt='d', cmap='Blues', \n",
    "            xticklabels=model.classes_, yticklabels=model.classes_)\n",
    "plt.title('Confusion Matrix')\n",
    "plt.xlabel('Predicted')\n",
    "plt.ylabel('Actual')\n",
    "plt.show()"
   ]
  },
  {
   "cell_type": "code",
   "execution_count": 47,
   "id": "ec23b25c-0d61-4d1a-a094-a84d112fe5ae",
   "metadata": {},
   "outputs": [
    {
     "name": "stdout",
     "output_type": "stream",
     "text": [
      "Text: 'I love this product! It's amazing!'\n",
      "Predicted Sentiment: positive\n",
      "Confidence: 0.9898\n",
      "--------------------------------------------------\n",
      "Text: 'This is terrible, I hate it'\n",
      "Predicted Sentiment: negative\n",
      "Confidence: 0.9909\n",
      "--------------------------------------------------\n",
      "Text: 'The weather is okay today'\n",
      "Predicted Sentiment: neutral\n",
      "Confidence: 0.5577\n",
      "--------------------------------------------------\n",
      "Text: 'Best day ever! So happy!'\n",
      "Predicted Sentiment: positive\n",
      "Confidence: 0.8687\n",
      "--------------------------------------------------\n",
      "Text: 'Not sure about this decision'\n",
      "Predicted Sentiment: neutral\n",
      "Confidence: 0.3876\n",
      "--------------------------------------------------\n"
     ]
    }
   ],
   "source": [
    "# 7. Test the Model with Sample Predictions\n",
    "def predict_sentiment(text):\n",
    "    text_vectorized = vectorizer.transform([text])\n",
    "    prediction = model.predict(text_vectorized)[0]\n",
    "    probability = model.predict_proba(text_vectorized)[0]\n",
    "    print(f\"Text: '{text}'\")\n",
    "    print(f\"Predicted Sentiment: {prediction}\")\n",
    "    print(f\"Confidence: {max(probability):.4f}\")\n",
    "    print(\"-\" * 50)\n",
    "\n",
    "sample_texts = [\n",
    "    \"I love this product! It's amazing!\",\n",
    "    \"This is terrible, I hate it\",\n",
    "    \"The weather is okay today\",\n",
    "    \"Best day ever! So happy!\",\n",
    "    \"Not sure about this decision\"\n",
    "]\n",
    "\n",
    "for text in sample_texts:\n",
    "    predict_sentiment(text)"
   ]
  },
  {
   "cell_type": "code",
   "execution_count": 49,
   "id": "c5a0bfc4-c184-4d50-a5b2-ccc2cd84316d",
   "metadata": {},
   "outputs": [
    {
     "name": "stdout",
     "output_type": "stream",
     "text": [
      "\n",
      "Top words for 'negative':\n",
      "  sad: 4.7728\n",
      "  sorry: 4.4677\n",
      "  sucks: 4.2124\n",
      "  hate: 4.2078\n",
      "  miss: 4.1539\n",
      "  sick: 3.3629\n",
      "  stupid: 3.3384\n",
      "  tired: 3.2273\n",
      "  bored: 3.0964\n",
      "  fail: 3.0465\n",
      "\n",
      "Top words for 'neutral':\n",
      "  hows: 1.7497\n",
      "  training: 1.2271\n",
      "  starwarsday: 1.1154\n",
      "  better soon: 1.1027\n",
      "  guitar: 1.0651\n",
      "  werent: 1.0538\n",
      "  moro: 1.0276\n",
      "  wolverine: 1.0253\n",
      "  noticed: 1.0106\n",
      "  sent: 0.9845\n",
      "\n",
      "Top words for 'positive':\n",
      "  love: 6.0270\n",
      "  awesome: 4.8555\n",
      "  thanks: 4.7752\n",
      "  great: 4.3433\n",
      "  happy: 4.2982\n",
      "  thank: 4.2825\n",
      "  nice: 4.1823\n",
      "  good: 4.1373\n",
      "  amazing: 3.9575\n",
      "  enjoy: 3.6278\n"
     ]
    }
   ],
   "source": [
    "# 8. Feature Importance\n",
    "feature_names = vectorizer.get_feature_names_out()\n",
    "for i, class_name in enumerate(model.classes_):\n",
    "    coef = model.coef_[i] if len(model.classes_) > 2 else (\n",
    "        model.coef_[0] if i == 1 else -model.coef_[0]\n",
    "    )\n",
    "    top_positive = np.argsort(coef)[-10:]\n",
    "    print(f\"\\nTop words for '{class_name}':\")\n",
    "    for idx in reversed(top_positive):\n",
    "        print(f\"  {feature_names[idx]}: {coef[idx]:.4f}\")"
   ]
  },
  {
   "cell_type": "code",
   "execution_count": 51,
   "id": "3000d0d7-4586-4a2f-9daa-f7783fc5d994",
   "metadata": {},
   "outputs": [
    {
     "name": "stdout",
     "output_type": "stream",
     "text": [
      "Model and vectorizer saved successfully!\n",
      "\n",
      "To load the model later:\n",
      "with open('sentiment_model.pkl', 'rb') as f:\n",
      "    model = pickle.load(f)\n",
      "with open('vectorizer.pkl', 'rb') as f:\n",
      "    vectorizer = pickle.load(f)\n"
     ]
    }
   ],
   "source": [
    "# 9. Save the Model\n",
    "import pickle\n",
    "with open('sentiment_model.pkl', 'wb') as f:\n",
    "    pickle.dump(model, f)\n",
    "with open('vectorizer.pkl', 'wb') as f:\n",
    "    pickle.dump(vectorizer, f)\n",
    "print(\"Model and vectorizer saved successfully!\")\n",
    "print(\"\\nTo load the model later:\")\n",
    "print(\"with open('sentiment_model.pkl', 'rb') as f:\")\n",
    "print(\"    model = pickle.load(f)\")\n",
    "print(\"with open('vectorizer.pkl', 'rb') as f:\")\n",
    "print(\"    vectorizer = pickle.load(f)\")"
   ]
  },
  {
   "cell_type": "code",
   "execution_count": null,
   "id": "cd6acbd4-e2d6-4c74-9e4e-1a68e99b41dc",
   "metadata": {},
   "outputs": [],
   "source": []
  },
  {
   "cell_type": "code",
   "execution_count": 54,
   "id": "5af871e0-98d2-49f4-b128-b1ad527cfe3e",
   "metadata": {},
   "outputs": [
    {
     "data": {
      "text/html": [
       "<div>\n",
       "<style scoped>\n",
       "    .dataframe tbody tr th:only-of-type {\n",
       "        vertical-align: middle;\n",
       "    }\n",
       "\n",
       "    .dataframe tbody tr th {\n",
       "        vertical-align: top;\n",
       "    }\n",
       "\n",
       "    .dataframe thead th {\n",
       "        text-align: right;\n",
       "    }\n",
       "</style>\n",
       "<table border=\"1\" class=\"dataframe\">\n",
       "  <thead>\n",
       "    <tr style=\"text-align: right;\">\n",
       "      <th></th>\n",
       "      <th>textID</th>\n",
       "      <th>text</th>\n",
       "      <th>selected_text</th>\n",
       "      <th>sentiment</th>\n",
       "      <th>cleaned_text</th>\n",
       "    </tr>\n",
       "  </thead>\n",
       "  <tbody>\n",
       "    <tr>\n",
       "      <th>0</th>\n",
       "      <td>cb774db0d1</td>\n",
       "      <td>I`d have responded, if I were going</td>\n",
       "      <td>I`d have responded, if I were going</td>\n",
       "      <td>neutral</td>\n",
       "      <td>id have responded if i were going</td>\n",
       "    </tr>\n",
       "    <tr>\n",
       "      <th>1</th>\n",
       "      <td>549e992a42</td>\n",
       "      <td>Sooo SAD I will miss you here in San Diego!!!</td>\n",
       "      <td>Sooo SAD</td>\n",
       "      <td>negative</td>\n",
       "      <td>sooo sad i will miss you here in san diego</td>\n",
       "    </tr>\n",
       "    <tr>\n",
       "      <th>2</th>\n",
       "      <td>088c60f138</td>\n",
       "      <td>my boss is bullying me...</td>\n",
       "      <td>bullying me</td>\n",
       "      <td>negative</td>\n",
       "      <td>my boss is bullying me</td>\n",
       "    </tr>\n",
       "    <tr>\n",
       "      <th>3</th>\n",
       "      <td>9642c003ef</td>\n",
       "      <td>what interview! leave me alone</td>\n",
       "      <td>leave me alone</td>\n",
       "      <td>negative</td>\n",
       "      <td>what interview leave me alone</td>\n",
       "    </tr>\n",
       "    <tr>\n",
       "      <th>4</th>\n",
       "      <td>358bd9e861</td>\n",
       "      <td>Sons of ****, why couldn`t they put them on t...</td>\n",
       "      <td>Sons of ****,</td>\n",
       "      <td>negative</td>\n",
       "      <td>sons of why couldnt they put them on the relea...</td>\n",
       "    </tr>\n",
       "  </tbody>\n",
       "</table>\n",
       "</div>"
      ],
      "text/plain": [
       "       textID                                               text  \\\n",
       "0  cb774db0d1                I`d have responded, if I were going   \n",
       "1  549e992a42      Sooo SAD I will miss you here in San Diego!!!   \n",
       "2  088c60f138                          my boss is bullying me...   \n",
       "3  9642c003ef                     what interview! leave me alone   \n",
       "4  358bd9e861   Sons of ****, why couldn`t they put them on t...   \n",
       "\n",
       "                         selected_text sentiment  \\\n",
       "0  I`d have responded, if I were going   neutral   \n",
       "1                             Sooo SAD  negative   \n",
       "2                          bullying me  negative   \n",
       "3                       leave me alone  negative   \n",
       "4                        Sons of ****,  negative   \n",
       "\n",
       "                                        cleaned_text  \n",
       "0                  id have responded if i were going  \n",
       "1         sooo sad i will miss you here in san diego  \n",
       "2                             my boss is bullying me  \n",
       "3                      what interview leave me alone  \n",
       "4  sons of why couldnt they put them on the relea...  "
      ]
     },
     "execution_count": 54,
     "metadata": {},
     "output_type": "execute_result"
    }
   ],
   "source": [
    "df.head()"
   ]
  },
  {
   "cell_type": "code",
   "execution_count": null,
   "id": "c646d6cb-08e5-4ac7-a072-0314c360f425",
   "metadata": {},
   "outputs": [],
   "source": []
  }
 ],
 "metadata": {
  "kernelspec": {
   "display_name": "Python 3 (ipykernel)",
   "language": "python",
   "name": "python3"
  },
  "language_info": {
   "codemirror_mode": {
    "name": "ipython",
    "version": 3
   },
   "file_extension": ".py",
   "mimetype": "text/x-python",
   "name": "python",
   "nbconvert_exporter": "python",
   "pygments_lexer": "ipython3",
   "version": "3.12.7"
  }
 },
 "nbformat": 4,
 "nbformat_minor": 5
}
